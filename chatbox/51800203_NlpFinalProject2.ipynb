{
  "nbformat": 4,
  "nbformat_minor": 5,
  "metadata": {
    "kernelspec": {
      "display_name": "Python 3",
      "language": "python",
      "name": "python3"
    },
    "language_info": {
      "codemirror_mode": {
        "name": "ipython",
        "version": 3
      },
      "file_extension": ".py",
      "mimetype": "text/x-python",
      "name": "python",
      "nbconvert_exporter": "python",
      "pygments_lexer": "ipython3",
      "version": "3.8.5"
    },
    "colab": {
      "name": "aaaaaaaaaaaaaaaa.ipynb",
      "provenance": [],
      "collapsed_sections": []
    }
  },
  "cells": [
    {
      "cell_type": "code",
      "metadata": {
        "colab": {
          "base_uri": "https://localhost:8080/"
        },
        "id": "S5_MBdT3ermK",
        "outputId": "23369f6c-ed0d-4393-a123-95b80e883347"
      },
      "source": [
        "!pip install pyvi\n",
        "import os\n",
        "from pyvi import ViTokenizer\n",
        "from gensim.models import Word2Vec\n",
        "import numpy as np\n",
        "import warnings\n",
        "warnings.filterwarnings('ignore')\n",
        "#import pyemd\n",
        "import re\n",
        "import pandas as pd\n",
        "#import time\n",
        "import tensorflow as tf\n",
        "from tensorflow.keras.preprocessing.sequence import pad_sequences\n",
        "from tensorflow.keras.layers import Flatten\n",
        "from tensorflow.keras import layers , activations , models , preprocessing , utils\n",
        "from  sklearn.model_selection import train_test_split"
      ],
      "id": "S5_MBdT3ermK",
      "execution_count": null,
      "outputs": [
        {
          "output_type": "stream",
          "text": [
            "Requirement already satisfied: pyvi in /usr/local/lib/python3.7/dist-packages (0.1)\n",
            "Requirement already satisfied: scikit-learn in /usr/local/lib/python3.7/dist-packages (from pyvi) (0.22.2.post1)\n",
            "Requirement already satisfied: sklearn-crfsuite in /usr/local/lib/python3.7/dist-packages (from pyvi) (0.3.6)\n",
            "Requirement already satisfied: scipy>=0.17.0 in /usr/local/lib/python3.7/dist-packages (from scikit-learn->pyvi) (1.4.1)\n",
            "Requirement already satisfied: joblib>=0.11 in /usr/local/lib/python3.7/dist-packages (from scikit-learn->pyvi) (1.0.1)\n",
            "Requirement already satisfied: numpy>=1.11.0 in /usr/local/lib/python3.7/dist-packages (from scikit-learn->pyvi) (1.19.5)\n",
            "Requirement already satisfied: six in /usr/local/lib/python3.7/dist-packages (from sklearn-crfsuite->pyvi) (1.15.0)\n",
            "Requirement already satisfied: python-crfsuite>=0.8.3 in /usr/local/lib/python3.7/dist-packages (from sklearn-crfsuite->pyvi) (0.9.7)\n",
            "Requirement already satisfied: tqdm>=2.0 in /usr/local/lib/python3.7/dist-packages (from sklearn-crfsuite->pyvi) (4.41.1)\n",
            "Requirement already satisfied: tabulate in /usr/local/lib/python3.7/dist-packages (from sklearn-crfsuite->pyvi) (0.8.9)\n"
          ],
          "name": "stdout"
        }
      ]
    },
    {
      "cell_type": "code",
      "metadata": {
        "id": "UlEBgP4kermX"
      },
      "source": [
        "#from os import walk\n",
        "#mypath='data'\n",
        "#f = []\n",
        "#for (dirpath, dirnames, filenames) in walk(mypath):\n",
        "#    f.extend(filenames)\n",
        "#    break"
      ],
      "id": "UlEBgP4kermX",
      "execution_count": null,
      "outputs": []
    },
    {
      "cell_type": "code",
      "metadata": {
        "id": "VPsl65iWgAC7"
      },
      "source": [
        "# Hàm đọc file\n",
        "def read(listDir, specialFile=None):\n",
        "  listFile = []\n",
        "  for f in listDir:\n",
        "    if f[-4:]=='.txt':\n",
        "      listFile.append(f)\n",
        "\n",
        "  lines = []\n",
        "  for filename in listFile:\n",
        "    if filename != specialFile:\n",
        "      with open(filename, 'r', encoding='utf-8') as f:\n",
        "        for x in f:\n",
        "          lines.append(x.strip('\\n')) #bỏ \\n cuối mỗi câu\n",
        "      f.close()\n",
        "  return lines"
      ],
      "id": "VPsl65iWgAC7",
      "execution_count": null,
      "outputs": []
    },
    {
      "cell_type": "code",
      "metadata": {
        "colab": {
          "base_uri": "https://localhost:8080/"
        },
        "id": "4lD8AWhsgN9q",
        "outputId": "cdc481bf-beec-4699-8016-fe58390e0b93"
      },
      "source": [
        "# Test hàm đọc file\n",
        "listDir = os.listdir()\n",
        "specialFile = 'VietNam_Stopwords.txt'\n",
        "lines = read(listDir, specialFile)\n",
        "print(len(lines))\n",
        "print(lines[:5])\n",
        "\n",
        "stopword = read([specialFile])\n",
        "print(len(stopword))\n",
        "print(stopword[:5])"
      ],
      "id": "4lD8AWhsgN9q",
      "execution_count": null,
      "outputs": [
        {
          "output_type": "stream",
          "text": [
            "5855\n",
            "['Thích đánh lộn không? __eou__ Ngon nhào vô __eou__', 'Solo yasua không __eou__ Chấp lun 2 mạng đầu __eou__', 'Mai đi picnic không? __eou__ Mai bận học rồi __eou__', 'Mai học ca mấy vậy? __eou__ Mai học ca 3 __eou__', 'Còn tiền không? __eou__ Còn chết liền __eou__']\n",
            "1942\n",
            "['a lô', 'a ha', 'ai', 'ai ai', 'ai nấy']\n"
          ],
          "name": "stdout"
        }
      ]
    },
    {
      "cell_type": "code",
      "metadata": {
        "colab": {
          "base_uri": "https://localhost:8080/"
        },
        "id": "B2bROmA9gr8K",
        "outputId": "049ab479-4b70-45b9-d6b8-6b92c3fdfe17"
      },
      "source": [
        "question=[]\n",
        "answer=[]\n",
        "for line in lines:\n",
        "  EOU = \"__eou__\"\n",
        "  j = line.find(EOU)\n",
        "  if line[j+7:-8].isspace() == False:\n",
        "    question.append(line[:j])\n",
        "    answer.append(line[j+8:-8])\n",
        "print(len(question))\n",
        "print(len(answer))"
      ],
      "id": "B2bROmA9gr8K",
      "execution_count": null,
      "outputs": [
        {
          "output_type": "stream",
          "text": [
            "5769\n",
            "5769\n"
          ],
          "name": "stdout"
        }
      ]
    },
    {
      "cell_type": "code",
      "metadata": {
        "id": "GDBy27eyermZ"
      },
      "source": [
        "#question =[]\n",
        "#answer=[]\n",
        "#for i in range(0,len(f)):\n",
        "#    linktxt='./data/'+f[i]\n",
        "#    with open(linktxt,encoding='UTF-8') as file:\n",
        "#        lines=file.readlines()\n",
        "#        for line in lines:\n",
        "#            tmp = line.split('__eou__')\n",
        "#            question.append(tmp[0].strip())\n",
        "#            answer.append(tmp[1].strip())"
      ],
      "id": "GDBy27eyermZ",
      "execution_count": null,
      "outputs": []
    },
    {
      "cell_type": "code",
      "metadata": {
        "id": "WDkTfej6erma"
      },
      "source": [
        "def processing(sent):\n",
        "    sent=sent.lower()\n",
        "    new_sent=re.findall(r'\\b\\S+\\b',sent)\n",
        "    new_sent=' '.join(new_sent)\n",
        "    return new_sent"
      ],
      "id": "WDkTfej6erma",
      "execution_count": null,
      "outputs": []
    },
    {
      "cell_type": "code",
      "metadata": {
        "id": "opD1r9TPermb"
      },
      "source": [
        "for i in range(0,len(question)):\n",
        "    question[i] = processing(question[i])"
      ],
      "id": "opD1r9TPermb",
      "execution_count": null,
      "outputs": []
    },
    {
      "cell_type": "code",
      "metadata": {
        "id": "3vNTfOGTermc"
      },
      "source": [
        "listnull=[]\n",
        "for i in range(0,len(question)):\n",
        "    if (question[i]==''):\n",
        "        listnull.append(i)"
      ],
      "id": "3vNTfOGTermc",
      "execution_count": null,
      "outputs": []
    },
    {
      "cell_type": "code",
      "metadata": {
        "id": "f8-Dss20ermd"
      },
      "source": [
        "question=list(filter(None,question))\n",
        "answer.remove(answer[listnull[0]])"
      ],
      "id": "f8-Dss20ermd",
      "execution_count": null,
      "outputs": []
    },
    {
      "cell_type": "code",
      "metadata": {
        "colab": {
          "base_uri": "https://localhost:8080/"
        },
        "id": "sbvq9EKxerme",
        "outputId": "ef7dd85b-a8c6-4957-b29e-3be3fc886073"
      },
      "source": [
        "tokenizer = tf.keras.preprocessing.text.Tokenizer(lower=True,split=' ')\n",
        "tokenizer.fit_on_texts(question)\n",
        "print(question[0])\n",
        "print(question[1])\n",
        "print(question[2])\n",
        "\n",
        "X = tokenizer.texts_to_sequences(question)\n",
        "print(X[0])\n",
        "print(X[1])\n",
        "print(X[2])\n",
        "\n",
        "X = pad_sequences(X)\n",
        "print(X[0])\n",
        "print(X[1])\n",
        "print(X[2])\n",
        "print(X.shape)"
      ],
      "id": "sbvq9EKxerme",
      "execution_count": null,
      "outputs": [
        {
          "output_type": "stream",
          "text": [
            "Thích đánh lộn không? \n",
            "Solo yasua không \n",
            "Mai đi picnic không? \n",
            "[15, 479, 1373, 2]\n",
            "[1056, 1374, 2]\n",
            "[163, 7, 1375, 2]\n",
            "[   0    0    0    0    0    0    0    0    0    0    0    0    0    0\n",
            "    0    0    0    0    0    0    0    0    0    0    0    0    0    0\n",
            "    0    0    0    0    0    0    0    0    0    0    0    0    0    0\n",
            "    0    0    0    0    0    0    0    0    0    0    0    0    0    0\n",
            "    0    0    0    0    0    0    0    0    0    0    0    0    0    0\n",
            "    0    0    0    0    0    0    0    0    0    0    0    0    0    0\n",
            "    0    0    0    0    0   15  479 1373    2]\n",
            "[   0    0    0    0    0    0    0    0    0    0    0    0    0    0\n",
            "    0    0    0    0    0    0    0    0    0    0    0    0    0    0\n",
            "    0    0    0    0    0    0    0    0    0    0    0    0    0    0\n",
            "    0    0    0    0    0    0    0    0    0    0    0    0    0    0\n",
            "    0    0    0    0    0    0    0    0    0    0    0    0    0    0\n",
            "    0    0    0    0    0    0    0    0    0    0    0    0    0    0\n",
            "    0    0    0    0    0    0 1056 1374    2]\n",
            "[   0    0    0    0    0    0    0    0    0    0    0    0    0    0\n",
            "    0    0    0    0    0    0    0    0    0    0    0    0    0    0\n",
            "    0    0    0    0    0    0    0    0    0    0    0    0    0    0\n",
            "    0    0    0    0    0    0    0    0    0    0    0    0    0    0\n",
            "    0    0    0    0    0    0    0    0    0    0    0    0    0    0\n",
            "    0    0    0    0    0    0    0    0    0    0    0    0    0    0\n",
            "    0    0    0    0    0  163    7 1375    2]\n",
            "(5769, 93)\n"
          ],
          "name": "stdout"
        }
      ]
    },
    {
      "cell_type": "code",
      "metadata": {
        "colab": {
          "base_uri": "https://localhost:8080/"
        },
        "id": "IoU0CXz7ermg",
        "outputId": "78e9eb88-ee21-46d5-b642-3ce792bf0100"
      },
      "source": [
        "print(\"input shape\",X.shape)\n",
        "vocab_size=len(tokenizer.word_index)+1\n",
        "print('Vocab count',vocab_size)"
      ],
      "id": "IoU0CXz7ermg",
      "execution_count": null,
      "outputs": [
        {
          "output_type": "stream",
          "text": [
            "input shape (5769, 93)\n",
            "Vocab count 2143\n"
          ],
          "name": "stdout"
        }
      ]
    },
    {
      "cell_type": "code",
      "metadata": {
        "scrolled": true,
        "colab": {
          "base_uri": "https://localhost:8080/"
        },
        "id": "70QG-ocCermh",
        "outputId": "981facfe-a69c-42d0-946e-36b967a313df"
      },
      "source": [
        "#lstm\n",
        "embed_dim=128\n",
        "hidden_size=200\n",
        "batch_size=32\n",
        "model = models.Sequential()\n",
        "model.add(layers.Embedding(vocab_size,embed_dim,input_length=X.shape[1]))\n",
        "model.add(layers.LSTM(hidden_size,return_sequences=True))\n",
        "model.add(layers.LSTM(hidden_size))\n",
        "#model.add(layers.Dense(128,activation='sigmoid'))\n",
        "model.add(layers.Dense(5769,activation='softmax'))\n",
        "model.compile(loss='categorical_crossentropy',optimizer='adam',metrics=['accuracy'])\n",
        "model.summary()"
      ],
      "id": "70QG-ocCermh",
      "execution_count": null,
      "outputs": [
        {
          "output_type": "stream",
          "text": [
            "Model: \"sequential_3\"\n",
            "_________________________________________________________________\n",
            "Layer (type)                 Output Shape              Param #   \n",
            "=================================================================\n",
            "embedding_3 (Embedding)      (None, 93, 128)           274304    \n",
            "_________________________________________________________________\n",
            "lstm_6 (LSTM)                (None, 93, 200)           263200    \n",
            "_________________________________________________________________\n",
            "lstm_7 (LSTM)                (None, 200)               320800    \n",
            "_________________________________________________________________\n",
            "dense_3 (Dense)              (None, 5769)              1159569   \n",
            "=================================================================\n",
            "Total params: 2,017,873\n",
            "Trainable params: 2,017,873\n",
            "Non-trainable params: 0\n",
            "_________________________________________________________________\n"
          ],
          "name": "stdout"
        }
      ]
    },
    {
      "cell_type": "code",
      "metadata": {
        "id": "wv3E5CGJermj"
      },
      "source": [
        "integer_mapping = {x: i for i,x in enumerate(answer)}\n",
        "\n",
        "vec = [integer_mapping[word] for word in answer]"
      ],
      "id": "wv3E5CGJermj",
      "execution_count": null,
      "outputs": []
    },
    {
      "cell_type": "code",
      "metadata": {
        "id": "3yDssXTIermj"
      },
      "source": [
        "Y = tf.keras.utils.to_categorical(vec)"
      ],
      "id": "3yDssXTIermj",
      "execution_count": null,
      "outputs": []
    },
    {
      "cell_type": "code",
      "metadata": {
        "colab": {
          "base_uri": "https://localhost:8080/"
        },
        "id": "zyuxz05dermk",
        "outputId": "4d1a3e9d-9bf3-40b0-dd5b-687693d68ccb"
      },
      "source": [
        "history = model.fit(X, Y,\n",
        "                    epochs=100,\n",
        "                    verbose=1,\n",
        "                    batch_size=32)"
      ],
      "id": "zyuxz05dermk",
      "execution_count": 67,
      "outputs": [
        {
          "output_type": "stream",
          "text": [
            "Epoch 1/100\n",
            "181/181 [==============================] - 99s 521ms/step - loss: 8.6564 - accuracy: 0.0000e+00\n",
            "Epoch 2/100\n",
            "181/181 [==============================] - 97s 534ms/step - loss: 8.6563 - accuracy: 0.0024\n",
            "Epoch 3/100\n",
            "181/181 [==============================] - 96s 528ms/step - loss: 8.4899 - accuracy: 0.0049\n",
            "Epoch 4/100\n",
            "181/181 [==============================] - 96s 530ms/step - loss: 8.0756 - accuracy: 0.0081\n",
            "Epoch 5/100\n",
            "181/181 [==============================] - 96s 531ms/step - loss: 7.4356 - accuracy: 0.0105\n",
            "Epoch 6/100\n",
            "181/181 [==============================] - 96s 531ms/step - loss: 6.6088 - accuracy: 0.0292\n",
            "Epoch 7/100\n",
            "181/181 [==============================] - 98s 540ms/step - loss: 5.7529 - accuracy: 0.0688\n",
            "Epoch 8/100\n",
            "181/181 [==============================] - 96s 531ms/step - loss: 4.9059 - accuracy: 0.1440\n",
            "Epoch 9/100\n",
            "181/181 [==============================] - 95s 527ms/step - loss: 4.1485 - accuracy: 0.2673\n",
            "Epoch 10/100\n",
            "181/181 [==============================] - 100s 552ms/step - loss: 3.3877 - accuracy: 0.4510\n",
            "Epoch 11/100\n",
            "181/181 [==============================] - 95s 526ms/step - loss: 2.7384 - accuracy: 0.5997\n",
            "Epoch 12/100\n",
            "181/181 [==============================] - 99s 545ms/step - loss: 2.2179 - accuracy: 0.7044\n",
            "Epoch 13/100\n",
            "181/181 [==============================] - 97s 535ms/step - loss: 1.7309 - accuracy: 0.7654\n",
            "Epoch 14/100\n",
            "181/181 [==============================] - 95s 526ms/step - loss: 1.3491 - accuracy: 0.8110\n",
            "Epoch 15/100\n",
            "181/181 [==============================] - 96s 530ms/step - loss: 1.0920 - accuracy: 0.8315\n",
            "Epoch 16/100\n",
            "181/181 [==============================] - 95s 525ms/step - loss: 0.9309 - accuracy: 0.8285\n",
            "Epoch 17/100\n",
            "181/181 [==============================] - 95s 526ms/step - loss: 0.7903 - accuracy: 0.8426\n",
            "Epoch 18/100\n",
            "181/181 [==============================] - 99s 548ms/step - loss: 0.6879 - accuracy: 0.8512\n",
            "Epoch 19/100\n",
            "181/181 [==============================] - 100s 550ms/step - loss: 0.6104 - accuracy: 0.8588\n",
            "Epoch 20/100\n",
            "181/181 [==============================] - 94s 522ms/step - loss: 0.5779 - accuracy: 0.8571\n",
            "Epoch 21/100\n",
            "181/181 [==============================] - 97s 533ms/step - loss: 0.5354 - accuracy: 0.8555\n",
            "Epoch 22/100\n",
            "181/181 [==============================] - 97s 535ms/step - loss: 0.5038 - accuracy: 0.8598\n",
            "Epoch 23/100\n",
            "181/181 [==============================] - 97s 536ms/step - loss: 0.4764 - accuracy: 0.8615\n",
            "Epoch 24/100\n",
            "181/181 [==============================] - 98s 544ms/step - loss: 0.4487 - accuracy: 0.8644\n",
            "Epoch 25/100\n",
            "181/181 [==============================] - 99s 548ms/step - loss: 0.4459 - accuracy: 0.8610\n",
            "Epoch 26/100\n",
            "181/181 [==============================] - 99s 547ms/step - loss: 0.4148 - accuracy: 0.8672\n",
            "Epoch 27/100\n",
            "181/181 [==============================] - 97s 538ms/step - loss: 0.4231 - accuracy: 0.8617\n",
            "Epoch 28/100\n",
            "181/181 [==============================] - 99s 546ms/step - loss: 0.4069 - accuracy: 0.8732\n",
            "Epoch 29/100\n",
            "181/181 [==============================] - 102s 565ms/step - loss: 0.4156 - accuracy: 0.8566\n",
            "Epoch 30/100\n",
            "181/181 [==============================] - 99s 545ms/step - loss: 0.3960 - accuracy: 0.8682\n",
            "Epoch 31/100\n",
            "181/181 [==============================] - 100s 551ms/step - loss: 0.3846 - accuracy: 0.8655\n",
            "Epoch 32/100\n",
            "181/181 [==============================] - 98s 540ms/step - loss: 0.4037 - accuracy: 0.8624\n",
            "Epoch 33/100\n",
            "181/181 [==============================] - 97s 537ms/step - loss: 0.3936 - accuracy: 0.8598\n",
            "Epoch 34/100\n",
            "181/181 [==============================] - 96s 528ms/step - loss: 0.3788 - accuracy: 0.8607\n",
            "Epoch 35/100\n",
            "181/181 [==============================] - 94s 518ms/step - loss: 0.3697 - accuracy: 0.8652\n",
            "Epoch 36/100\n",
            "181/181 [==============================] - 95s 524ms/step - loss: 0.4386 - accuracy: 0.8535\n",
            "Epoch 37/100\n",
            "181/181 [==============================] - 97s 536ms/step - loss: 0.4315 - accuracy: 0.8614\n",
            "Epoch 38/100\n",
            "181/181 [==============================] - 96s 528ms/step - loss: 0.3578 - accuracy: 0.8708\n",
            "Epoch 39/100\n",
            "181/181 [==============================] - 97s 536ms/step - loss: 0.3680 - accuracy: 0.8615\n",
            "Epoch 40/100\n",
            "181/181 [==============================] - 96s 532ms/step - loss: 0.3537 - accuracy: 0.8681\n",
            "Epoch 41/100\n",
            "181/181 [==============================] - 93s 514ms/step - loss: 0.3500 - accuracy: 0.8687\n",
            "Epoch 42/100\n",
            "181/181 [==============================] - 95s 526ms/step - loss: 0.3610 - accuracy: 0.8583\n",
            "Epoch 43/100\n",
            "181/181 [==============================] - 96s 529ms/step - loss: 0.3654 - accuracy: 0.8600\n",
            "Epoch 44/100\n",
            "181/181 [==============================] - 97s 536ms/step - loss: 0.3442 - accuracy: 0.8697\n",
            "Epoch 45/100\n",
            "181/181 [==============================] - 99s 547ms/step - loss: 0.3442 - accuracy: 0.8689\n",
            "Epoch 46/100\n",
            "181/181 [==============================] - 98s 540ms/step - loss: 0.3533 - accuracy: 0.8649\n",
            "Epoch 47/100\n",
            "181/181 [==============================] - 99s 549ms/step - loss: 0.3822 - accuracy: 0.8549\n",
            "Epoch 48/100\n",
            "181/181 [==============================] - 98s 544ms/step - loss: 0.3712 - accuracy: 0.8554\n",
            "Epoch 49/100\n",
            "181/181 [==============================] - 101s 556ms/step - loss: 0.3714 - accuracy: 0.8634\n",
            "Epoch 50/100\n",
            "181/181 [==============================] - 101s 559ms/step - loss: 0.3511 - accuracy: 0.8659\n",
            "Epoch 51/100\n",
            "181/181 [==============================] - 98s 543ms/step - loss: 0.3736 - accuracy: 0.8542\n",
            "Epoch 52/100\n",
            "181/181 [==============================] - 99s 544ms/step - loss: 0.3469 - accuracy: 0.8671\n",
            "Epoch 53/100\n",
            "181/181 [==============================] - 99s 546ms/step - loss: 0.3457 - accuracy: 0.8686\n",
            "Epoch 54/100\n",
            "181/181 [==============================] - 98s 543ms/step - loss: 0.3409 - accuracy: 0.8670\n",
            "Epoch 55/100\n",
            "181/181 [==============================] - 99s 548ms/step - loss: 0.3382 - accuracy: 0.8672\n",
            "Epoch 56/100\n",
            "181/181 [==============================] - 98s 541ms/step - loss: 0.3815 - accuracy: 0.8520\n",
            "Epoch 57/100\n",
            "181/181 [==============================] - 99s 548ms/step - loss: 0.3773 - accuracy: 0.8598\n",
            "Epoch 58/100\n",
            "181/181 [==============================] - 99s 546ms/step - loss: 0.3520 - accuracy: 0.8643\n",
            "Epoch 59/100\n",
            "181/181 [==============================] - 99s 545ms/step - loss: 0.3518 - accuracy: 0.8654\n",
            "Epoch 60/100\n",
            "181/181 [==============================] - 98s 542ms/step - loss: 0.3320 - accuracy: 0.8726\n",
            "Epoch 61/100\n",
            "181/181 [==============================] - 101s 559ms/step - loss: 0.3261 - accuracy: 0.8673\n",
            "Epoch 62/100\n",
            "181/181 [==============================] - 103s 570ms/step - loss: 0.3279 - accuracy: 0.8698\n",
            "Epoch 63/100\n",
            "181/181 [==============================] - 101s 558ms/step - loss: 0.3398 - accuracy: 0.8631\n",
            "Epoch 64/100\n",
            "181/181 [==============================] - 96s 529ms/step - loss: 0.3239 - accuracy: 0.8635\n",
            "Epoch 65/100\n",
            "181/181 [==============================] - 96s 528ms/step - loss: 0.3309 - accuracy: 0.8624\n",
            "Epoch 66/100\n",
            "181/181 [==============================] - 95s 527ms/step - loss: 0.3470 - accuracy: 0.8574\n",
            "Epoch 67/100\n",
            "181/181 [==============================] - 95s 527ms/step - loss: 0.3194 - accuracy: 0.8720\n",
            "Epoch 68/100\n",
            "181/181 [==============================] - 98s 544ms/step - loss: 0.3336 - accuracy: 0.8621\n",
            "Epoch 69/100\n",
            "181/181 [==============================] - 97s 534ms/step - loss: 0.3238 - accuracy: 0.8737\n",
            "Epoch 70/100\n",
            "181/181 [==============================] - 101s 557ms/step - loss: 0.3236 - accuracy: 0.8653\n",
            "Epoch 71/100\n",
            "181/181 [==============================] - 101s 559ms/step - loss: 0.3449 - accuracy: 0.8547\n",
            "Epoch 72/100\n",
            "181/181 [==============================] - 99s 549ms/step - loss: 0.3265 - accuracy: 0.8691\n",
            "Epoch 73/100\n",
            "181/181 [==============================] - 101s 560ms/step - loss: 0.3443 - accuracy: 0.8662\n",
            "Epoch 74/100\n",
            "181/181 [==============================] - 98s 541ms/step - loss: 0.3640 - accuracy: 0.8601\n",
            "Epoch 75/100\n",
            "181/181 [==============================] - 100s 551ms/step - loss: 0.3650 - accuracy: 0.8596\n",
            "Epoch 76/100\n",
            "181/181 [==============================] - 98s 543ms/step - loss: 0.3371 - accuracy: 0.8564\n",
            "Epoch 77/100\n",
            "181/181 [==============================] - 98s 542ms/step - loss: 0.3334 - accuracy: 0.8612\n",
            "Epoch 78/100\n",
            "181/181 [==============================] - 95s 527ms/step - loss: 0.3227 - accuracy: 0.8673\n",
            "Epoch 79/100\n",
            "181/181 [==============================] - 97s 537ms/step - loss: 0.3205 - accuracy: 0.8659\n",
            "Epoch 80/100\n",
            "181/181 [==============================] - 96s 529ms/step - loss: 0.3232 - accuracy: 0.8647\n",
            "Epoch 81/100\n",
            "181/181 [==============================] - 98s 540ms/step - loss: 0.3234 - accuracy: 0.8664\n",
            "Epoch 82/100\n",
            "181/181 [==============================] - 99s 544ms/step - loss: 0.3053 - accuracy: 0.8676\n",
            "Epoch 83/100\n",
            "181/181 [==============================] - 98s 541ms/step - loss: 0.3240 - accuracy: 0.8648\n",
            "Epoch 84/100\n",
            "181/181 [==============================] - 98s 544ms/step - loss: 0.3345 - accuracy: 0.8619\n",
            "Epoch 85/100\n",
            "181/181 [==============================] - 97s 538ms/step - loss: 0.3219 - accuracy: 0.8649\n",
            "Epoch 86/100\n",
            "181/181 [==============================] - 95s 524ms/step - loss: 0.3074 - accuracy: 0.8731\n",
            "Epoch 87/100\n",
            "181/181 [==============================] - 97s 533ms/step - loss: 0.3217 - accuracy: 0.8629\n",
            "Epoch 88/100\n",
            "181/181 [==============================] - 98s 540ms/step - loss: 0.3383 - accuracy: 0.8638\n",
            "Epoch 89/100\n",
            "181/181 [==============================] - 96s 530ms/step - loss: 0.3195 - accuracy: 0.8667\n",
            "Epoch 90/100\n",
            "181/181 [==============================] - 93s 515ms/step - loss: 0.3394 - accuracy: 0.8640\n",
            "Epoch 91/100\n",
            "181/181 [==============================] - 95s 524ms/step - loss: 0.3225 - accuracy: 0.8654\n",
            "Epoch 92/100\n",
            "181/181 [==============================] - 95s 523ms/step - loss: 0.3417 - accuracy: 0.8595\n",
            "Epoch 93/100\n",
            "181/181 [==============================] - 95s 525ms/step - loss: 0.3028 - accuracy: 0.8723\n",
            "Epoch 94/100\n",
            "181/181 [==============================] - 98s 542ms/step - loss: 0.3270 - accuracy: 0.8640\n",
            "Epoch 95/100\n",
            "181/181 [==============================] - 105s 582ms/step - loss: 0.3122 - accuracy: 0.8697\n",
            "Epoch 96/100\n",
            "181/181 [==============================] - 97s 534ms/step - loss: 0.3141 - accuracy: 0.8673\n",
            "Epoch 97/100\n",
            "181/181 [==============================] - 99s 548ms/step - loss: 0.3295 - accuracy: 0.8611\n",
            "Epoch 98/100\n",
            "181/181 [==============================] - 104s 573ms/step - loss: 0.3158 - accuracy: 0.8663\n",
            "Epoch 99/100\n",
            "181/181 [==============================] - 97s 533ms/step - loss: 0.3226 - accuracy: 0.8610\n",
            "Epoch 100/100\n",
            "181/181 [==============================] - 100s 553ms/step - loss: 0.3180 - accuracy: 0.8641\n"
          ],
          "name": "stdout"
        }
      ]
    },
    {
      "cell_type": "code",
      "metadata": {
        "id": "ZNPgKC4serml",
        "colab": {
          "base_uri": "https://localhost:8080/"
        },
        "outputId": "a08998e8-c851-4117-b7e0-32492ff4952f"
      },
      "source": [
        "loss, accuracy = model.evaluate(X, Y, verbose=False)\n",
        "print(\"Training Accuracy: {:.4f}\".format(accuracy))"
      ],
      "id": "ZNPgKC4serml",
      "execution_count": 68,
      "outputs": [
        {
          "output_type": "stream",
          "text": [
            "Training Accuracy: 0.8842\n"
          ],
          "name": "stdout"
        }
      ]
    },
    {
      "cell_type": "code",
      "metadata": {
        "id": "-iplZs-hermm"
      },
      "source": [
        "test_sent=['Bạn học trường nào?']\n",
        "test_sen=[processing(test_sent[0])]\n",
        "\n",
        "test_seq = tokenizer.texts_to_sequences(test_sen)\n",
        "padded_test_seq = pad_sequences(test_seq,maxlen=93)\n",
        "y_pred=model.predict_classes(padded_test_seq)\n"
      ],
      "id": "-iplZs-hermm",
      "execution_count": 69,
      "outputs": []
    },
    {
      "cell_type": "code",
      "metadata": {
        "id": "GWVd0c2hermm",
        "colab": {
          "base_uri": "https://localhost:8080/"
        },
        "outputId": "24a19751-fa14-45d2-d2c3-fb5efe627754"
      },
      "source": [
        "print('Q:   ',test_sent[0])\n",
        "print('A:   ',answer[y_pred[0]])"
      ],
      "id": "GWVd0c2hermm",
      "execution_count": 70,
      "outputs": [
        {
          "output_type": "stream",
          "text": [
            "Q:    Bạn học trường nào?\n",
            "A:    Mình học trường Tôn Đức Thắng.\n"
          ],
          "name": "stdout"
        }
      ]
    },
    {
      "cell_type": "code",
      "metadata": {
        "id": "vejfLDLEermm",
        "outputId": "b962705b-e036-482f-f84d-e24f43738ed4"
      },
      "source": [
        ""
      ],
      "id": "vejfLDLEermm",
      "execution_count": null,
      "outputs": [
        {
          "output_type": "execute_result",
          "data": {
            "text/plain": [
              "'Mình mua ở Nguyễn Kim'"
            ]
          },
          "metadata": {
            "tags": []
          },
          "execution_count": 125
        }
      ]
    },
    {
      "cell_type": "code",
      "metadata": {
        "id": "ddqiQ6vcermn"
      },
      "source": [
        ""
      ],
      "id": "ddqiQ6vcermn",
      "execution_count": null,
      "outputs": []
    },
    {
      "cell_type": "code",
      "metadata": {
        "id": "TPCoQYdMermn"
      },
      "source": [
        ""
      ],
      "id": "TPCoQYdMermn",
      "execution_count": null,
      "outputs": []
    },
    {
      "cell_type": "code",
      "metadata": {
        "id": "3eIIfiCYermn"
      },
      "source": [
        ""
      ],
      "id": "3eIIfiCYermn",
      "execution_count": null,
      "outputs": []
    }
  ]
}